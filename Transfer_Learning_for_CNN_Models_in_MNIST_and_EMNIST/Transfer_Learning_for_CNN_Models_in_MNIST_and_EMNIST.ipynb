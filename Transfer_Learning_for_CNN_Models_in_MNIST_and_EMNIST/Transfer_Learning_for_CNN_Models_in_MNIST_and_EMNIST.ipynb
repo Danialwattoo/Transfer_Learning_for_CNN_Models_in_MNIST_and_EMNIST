{
 "cells": [
  {
   "cell_type": "markdown",
   "id": "61a436af-843f-41ff-a632-599a38c37316",
   "metadata": {},
   "source": [
    "<h1>Import Libraries:</h1>"
   ]
  },
  {
   "cell_type": "code",
   "execution_count": 31,
   "id": "d3a9d861-b5a1-4599-bb0d-fe895fc5b5c7",
   "metadata": {},
   "outputs": [],
   "source": [
    "from tensorflow.keras.datasets import mnist\n",
    "from tensorflow.keras.models import Sequential\n",
    "from tensorflow.keras.layers import Conv2D, MaxPooling2D, Flatten, Dense\n",
    "from tensorflow.keras.utils import to_categorical"
   ]
  },
  {
   "cell_type": "markdown",
   "id": "1283b60f-2c69-4ff5-b9f3-b999b47a6547",
   "metadata": {},
   "source": [
    "<h1>Load and Preprocess the MNIST Dataset:</h1>"
   ]
  },
  {
   "cell_type": "code",
   "execution_count": 32,
   "id": "15215782-603a-4c7c-8fa3-ed09a32969ed",
   "metadata": {},
   "outputs": [],
   "source": [
    "(x_train, y_train), (x_test, y_test) = mnist.load_data()\n",
    "x_train = x_train.reshape((60000, 28, 28, 1)).astype('float32') / 255\n",
    "x_test = x_test.reshape((10000, 28, 28, 1)).astype('float32') / 255\n",
    "y_train = to_categorical(y_train, 10)\n",
    "y_test = to_categorical(y_test, 10)\n"
   ]
  },
  {
   "cell_type": "markdown",
   "id": "4d236e1e-11a3-40b2-9da7-f03ac4c093b6",
   "metadata": {},
   "source": [
    "<h1>Build the CNN Model:</h1>"
   ]
  },
  {
   "cell_type": "code",
   "execution_count": 33,
   "id": "e7ce3f33-23fa-4e8d-909f-80f9a72d2f61",
   "metadata": {},
   "outputs": [],
   "source": [
    "model = Sequential()\n",
    "model.add(Conv2D(32, (3, 3), activation='relu', input_shape=(28, 28, 1)))\n",
    "model.add(MaxPooling2D(pool_size=(2, 2)))\n",
    "model.add(Flatten())\n",
    "model.add(Dense(128, activation='relu'))\n",
    "model.add(Dense(10, activation='softmax'))"
   ]
  },
  {
   "cell_type": "markdown",
   "id": "b7349ad8-b360-4991-9c31-bd142d6f9963",
   "metadata": {},
   "source": [
    "<h1>Compile and Train the Model:</h1>"
   ]
  },
  {
   "cell_type": "code",
   "execution_count": 34,
   "id": "3f2971c5-6cc8-494b-8b51-14c9502c9864",
   "metadata": {},
   "outputs": [
    {
     "name": "stdout",
     "output_type": "stream",
     "text": [
      "Epoch 1/10\n",
      "\u001b[1m240/240\u001b[0m \u001b[32m━━━━━━━━━━━━━━━━━━━━\u001b[0m\u001b[37m\u001b[0m \u001b[1m10s\u001b[0m 30ms/step - accuracy: 0.8423 - loss: 0.5973 - val_accuracy: 0.9713 - val_loss: 0.1041\n",
      "Epoch 2/10\n",
      "\u001b[1m240/240\u001b[0m \u001b[32m━━━━━━━━━━━━━━━━━━━━\u001b[0m\u001b[37m\u001b[0m \u001b[1m7s\u001b[0m 28ms/step - accuracy: 0.9728 - loss: 0.0940 - val_accuracy: 0.9753 - val_loss: 0.0871\n",
      "Epoch 3/10\n",
      "\u001b[1m240/240\u001b[0m \u001b[32m━━━━━━━━━━━━━━━━━━━━\u001b[0m\u001b[37m\u001b[0m \u001b[1m7s\u001b[0m 28ms/step - accuracy: 0.9838 - loss: 0.0588 - val_accuracy: 0.9819 - val_loss: 0.0619\n",
      "Epoch 4/10\n",
      "\u001b[1m240/240\u001b[0m \u001b[32m━━━━━━━━━━━━━━━━━━━━\u001b[0m\u001b[37m\u001b[0m \u001b[1m7s\u001b[0m 28ms/step - accuracy: 0.9874 - loss: 0.0427 - val_accuracy: 0.9815 - val_loss: 0.0615\n",
      "Epoch 5/10\n",
      "\u001b[1m240/240\u001b[0m \u001b[32m━━━━━━━━━━━━━━━━━━━━\u001b[0m\u001b[37m\u001b[0m \u001b[1m7s\u001b[0m 27ms/step - accuracy: 0.9910 - loss: 0.0339 - val_accuracy: 0.9834 - val_loss: 0.0551\n",
      "Epoch 6/10\n",
      "\u001b[1m240/240\u001b[0m \u001b[32m━━━━━━━━━━━━━━━━━━━━\u001b[0m\u001b[37m\u001b[0m \u001b[1m7s\u001b[0m 27ms/step - accuracy: 0.9919 - loss: 0.0273 - val_accuracy: 0.9844 - val_loss: 0.0556\n",
      "Epoch 7/10\n",
      "\u001b[1m240/240\u001b[0m \u001b[32m━━━━━━━━━━━━━━━━━━━━\u001b[0m\u001b[37m\u001b[0m \u001b[1m7s\u001b[0m 27ms/step - accuracy: 0.9940 - loss: 0.0209 - val_accuracy: 0.9849 - val_loss: 0.0549\n",
      "Epoch 8/10\n",
      "\u001b[1m240/240\u001b[0m \u001b[32m━━━━━━━━━━━━━━━━━━━━\u001b[0m\u001b[37m\u001b[0m \u001b[1m7s\u001b[0m 28ms/step - accuracy: 0.9961 - loss: 0.0147 - val_accuracy: 0.9818 - val_loss: 0.0648\n",
      "Epoch 9/10\n",
      "\u001b[1m240/240\u001b[0m \u001b[32m━━━━━━━━━━━━━━━━━━━━\u001b[0m\u001b[37m\u001b[0m \u001b[1m7s\u001b[0m 29ms/step - accuracy: 0.9960 - loss: 0.0145 - val_accuracy: 0.9847 - val_loss: 0.0553\n",
      "Epoch 10/10\n",
      "\u001b[1m240/240\u001b[0m \u001b[32m━━━━━━━━━━━━━━━━━━━━\u001b[0m\u001b[37m\u001b[0m \u001b[1m7s\u001b[0m 28ms/step - accuracy: 0.9970 - loss: 0.0116 - val_accuracy: 0.9844 - val_loss: 0.0569\n"
     ]
    },
    {
     "data": {
      "text/plain": [
       "<keras.src.callbacks.history.History at 0x25fcfb548c0>"
      ]
     },
     "execution_count": 34,
     "metadata": {},
     "output_type": "execute_result"
    }
   ],
   "source": [
    "model.compile(loss='categorical_crossentropy', optimizer='adam', metrics=['accuracy'])\n",
    "model.fit(x_train, y_train, epochs=10, batch_size=200, validation_split=0.2)"
   ]
  },
  {
   "cell_type": "markdown",
   "id": "f2c5768e-add6-4cda-afde-58d0b9d578b4",
   "metadata": {},
   "source": [
    "<h1>Save the Model Weights:</h1>"
   ]
  },
  {
   "cell_type": "code",
   "execution_count": null,
   "id": "0473f4ca-1b0c-4e92-b0c3-2492cd00ca81",
   "metadata": {},
   "outputs": [],
   "source": [
    "model.save_weights('mnist_model_.weights.h5')"
   ]
  },
  {
   "cell_type": "markdown",
   "id": "57484ddd-916e-4149-b481-7e97d18572ca",
   "metadata": {},
   "source": [
    "<h1>Fine-Tune the Model on EMNIST</h1>"
   ]
  },
  {
   "cell_type": "code",
   "execution_count": 46,
   "id": "aa518b23-d19b-4b23-84ec-4e6702f5bf62",
   "metadata": {},
   "outputs": [],
   "source": [
    "model.pop()  # Remove the last layer\n",
    "model.add(Dense(62, activation='softmax'))  # For EMNIST (10 digits + 26 uppercase + 26 lowercase)"
   ]
  },
  {
   "cell_type": "markdown",
   "id": "c144683f-6a90-4e05-9aa2-4f7b0f447cc0",
   "metadata": {},
   "source": [
    "<h1>Load the Pretrained Weights</h1>"
   ]
  },
  {
   "cell_type": "code",
   "execution_count": 50,
   "id": "419062ff-f820-4194-8db2-03e33c7a6a44",
   "metadata": {},
   "outputs": [],
   "source": [
    "model.load_weights('mnist_model_.weights.h5', skip_mismatch=True)"
   ]
  },
  {
   "cell_type": "markdown",
   "id": "8825cffb-7206-42f5-8fdf-0b0df2ec4af7",
   "metadata": {},
   "source": [
    "<h1>Compile and Train the Model on EMNIST:</h1>"
   ]
  },
  {
   "cell_type": "code",
   "execution_count": 66,
   "id": "4d93882f-d7fb-4e56-9894-dfc1b6e3c759",
   "metadata": {},
   "outputs": [
    {
     "name": "stdout",
     "output_type": "stream",
     "text": [
      "x_emnist_train shape: (240000, 28, 28, 1)\n",
      "y_emnist_train shape: (240000, 62)\n"
     ]
    }
   ],
   "source": [
    "import numpy as np\n",
    "import gzip\n",
    "from tensorflow.keras.utils import to_categorical\n",
    "\n",
    "def load_emnist_images(path):\n",
    "    with gzip.open(path, 'rb') as f:\n",
    "        # Read the IDX file format\n",
    "        f.read(16)  # Skip the header\n",
    "        data = np.frombuffer(f.read(), np.uint8)\n",
    "        data = data.reshape(-1, 28, 28)  # Adjust shape as needed\n",
    "    return data\n",
    "\n",
    "def load_emnist_labels(path):\n",
    "    with gzip.open(path, 'rb') as f:\n",
    "        f.read(8)  # Skip the header\n",
    "        labels = np.frombuffer(f.read(), np.uint8)\n",
    "    return labels\n",
    "\n",
    "def preprocess_emnist_data(images_path, labels_path):\n",
    "    # Load data\n",
    "    x_train = load_emnist_images(images_path)\n",
    "    y_train = load_emnist_labels(labels_path)\n",
    "    \n",
    "    # Reshape and normalize the data\n",
    "    x_train = x_train.reshape((x_train.shape[0], 28, 28, 1)).astype('float32') / 255\n",
    "    \n",
    "    # Convert labels to categorical format\n",
    "    y_train = to_categorical(y_train, num_classes=62)  # Adjust the number of classes based on your EMNIST variant\n",
    "    \n",
    "    return x_train, y_train\n",
    "\n",
    "# Specify the path to your EMNIST dataset\n",
    "emnist_images_path = 'C:\\\\Users\\\\DELL\\\\Downloads\\\\EMINIST\\\\emnist\\\\gzip\\\\emnist-digits-train-images-idx3-ubyte.gz'\n",
    "emnist_labels_path = 'C:\\\\Users\\\\DELL\\\\Downloads\\\\EMINIST\\\\emnist\\\\gzip\\\\emnist-digits-train-labels-idx1-ubyte.gz'\n",
    "\n",
    "x_emnist_train, y_emnist_train = preprocess_emnist_data(emnist_images_path, emnist_labels_path)\n",
    "\n",
    "print(f\"x_emnist_train shape: {x_emnist_train.shape}\")\n",
    "print(f\"y_emnist_train shape: {y_emnist_train.shape}\")\n"
   ]
  },
  {
   "cell_type": "markdown",
   "id": "2e842bc3-031d-48e9-9149-26a887cd4f60",
   "metadata": {},
   "source": [
    "<h1>Train the Model</h1>"
   ]
  },
  {
   "cell_type": "code",
   "execution_count": 67,
   "id": "a7c24ae6-76ab-4aa4-96bd-0d762fc8d526",
   "metadata": {},
   "outputs": [
    {
     "name": "stdout",
     "output_type": "stream",
     "text": [
      "Epoch 1/10\n",
      "\u001b[1m960/960\u001b[0m \u001b[32m━━━━━━━━━━━━━━━━━━━━\u001b[0m\u001b[37m\u001b[0m \u001b[1m33s\u001b[0m 31ms/step - accuracy: 0.9046 - loss: 0.4005 - val_accuracy: 0.9870 - val_loss: 0.0448\n",
      "Epoch 2/10\n",
      "\u001b[1m960/960\u001b[0m \u001b[32m━━━━━━━━━━━━━━━━━━━━\u001b[0m\u001b[37m\u001b[0m \u001b[1m31s\u001b[0m 33ms/step - accuracy: 0.9885 - loss: 0.0405 - val_accuracy: 0.9876 - val_loss: 0.0413\n",
      "Epoch 3/10\n",
      "\u001b[1m960/960\u001b[0m \u001b[32m━━━━━━━━━━━━━━━━━━━━\u001b[0m\u001b[37m\u001b[0m \u001b[1m24s\u001b[0m 24ms/step - accuracy: 0.9917 - loss: 0.0285 - val_accuracy: 0.9903 - val_loss: 0.0343\n",
      "Epoch 4/10\n",
      "\u001b[1m960/960\u001b[0m \u001b[32m━━━━━━━━━━━━━━━━━━━━\u001b[0m\u001b[37m\u001b[0m \u001b[1m19s\u001b[0m 20ms/step - accuracy: 0.9938 - loss: 0.0202 - val_accuracy: 0.9911 - val_loss: 0.0305\n",
      "Epoch 5/10\n",
      "\u001b[1m960/960\u001b[0m \u001b[32m━━━━━━━━━━━━━━━━━━━━\u001b[0m\u001b[37m\u001b[0m \u001b[1m19s\u001b[0m 20ms/step - accuracy: 0.9951 - loss: 0.0165 - val_accuracy: 0.9911 - val_loss: 0.0326\n",
      "Epoch 6/10\n",
      "\u001b[1m960/960\u001b[0m \u001b[32m━━━━━━━━━━━━━━━━━━━━\u001b[0m\u001b[37m\u001b[0m \u001b[1m19s\u001b[0m 20ms/step - accuracy: 0.9963 - loss: 0.0121 - val_accuracy: 0.9909 - val_loss: 0.0340\n",
      "Epoch 7/10\n",
      "\u001b[1m960/960\u001b[0m \u001b[32m━━━━━━━━━━━━━━━━━━━━\u001b[0m\u001b[37m\u001b[0m \u001b[1m20s\u001b[0m 21ms/step - accuracy: 0.9971 - loss: 0.0102 - val_accuracy: 0.9906 - val_loss: 0.0357\n",
      "Epoch 8/10\n",
      "\u001b[1m960/960\u001b[0m \u001b[32m━━━━━━━━━━━━━━━━━━━━\u001b[0m\u001b[37m\u001b[0m \u001b[1m20s\u001b[0m 21ms/step - accuracy: 0.9975 - loss: 0.0088 - val_accuracy: 0.9914 - val_loss: 0.0361\n",
      "Epoch 9/10\n",
      "\u001b[1m960/960\u001b[0m \u001b[32m━━━━━━━━━━━━━━━━━━━━\u001b[0m\u001b[37m\u001b[0m \u001b[1m20s\u001b[0m 21ms/step - accuracy: 0.9979 - loss: 0.0072 - val_accuracy: 0.9915 - val_loss: 0.0357\n",
      "Epoch 10/10\n",
      "\u001b[1m960/960\u001b[0m \u001b[32m━━━━━━━━━━━━━━━━━━━━\u001b[0m\u001b[37m\u001b[0m \u001b[1m19s\u001b[0m 20ms/step - accuracy: 0.9986 - loss: 0.0047 - val_accuracy: 0.9916 - val_loss: 0.0369\n"
     ]
    },
    {
     "data": {
      "text/plain": [
       "<keras.src.callbacks.history.History at 0x25fd98ebd70>"
      ]
     },
     "execution_count": 67,
     "metadata": {},
     "output_type": "execute_result"
    }
   ],
   "source": [
    "model.compile(loss='categorical_crossentropy', optimizer='adam', metrics=['accuracy'])\n",
    "model.fit(x_emnist_train, y_emnist_train, epochs=10, batch_size=200, validation_split=0.2)"
   ]
  },
  {
   "cell_type": "code",
   "execution_count": 79,
   "id": "9dea849e-3cc1-4054-9be8-4e5fea0e93fd",
   "metadata": {},
   "outputs": [
    {
     "name": "stdout",
     "output_type": "stream",
     "text": [
      "Requirement already satisfied: tensorflow in c:\\users\\dell\\appdata\\local\\programs\\python\\python312\\lib\\site-packages (2.17.0)\n",
      "Requirement already satisfied: keras in c:\\users\\dell\\appdata\\local\\programs\\python\\python312\\lib\\site-packages (3.5.0)\n",
      "Requirement already satisfied: tensorflow-intel==2.17.0 in c:\\users\\dell\\appdata\\local\\programs\\python\\python312\\lib\\site-packages (from tensorflow) (2.17.0)\n",
      "Requirement already satisfied: absl-py>=1.0.0 in c:\\users\\dell\\appdata\\local\\programs\\python\\python312\\lib\\site-packages (from tensorflow-intel==2.17.0->tensorflow) (2.1.0)\n",
      "Requirement already satisfied: astunparse>=1.6.0 in c:\\users\\dell\\appdata\\local\\programs\\python\\python312\\lib\\site-packages (from tensorflow-intel==2.17.0->tensorflow) (1.6.3)\n",
      "Requirement already satisfied: flatbuffers>=24.3.25 in c:\\users\\dell\\appdata\\local\\programs\\python\\python312\\lib\\site-packages (from tensorflow-intel==2.17.0->tensorflow) (24.3.25)\n",
      "Requirement already satisfied: gast!=0.5.0,!=0.5.1,!=0.5.2,>=0.2.1 in c:\\users\\dell\\appdata\\local\\programs\\python\\python312\\lib\\site-packages (from tensorflow-intel==2.17.0->tensorflow) (0.6.0)\n",
      "Requirement already satisfied: google-pasta>=0.1.1 in c:\\users\\dell\\appdata\\local\\programs\\python\\python312\\lib\\site-packages (from tensorflow-intel==2.17.0->tensorflow) (0.2.0)\n",
      "Requirement already satisfied: h5py>=3.10.0 in c:\\users\\dell\\appdata\\local\\programs\\python\\python312\\lib\\site-packages (from tensorflow-intel==2.17.0->tensorflow) (3.11.0)\n",
      "Requirement already satisfied: libclang>=13.0.0 in c:\\users\\dell\\appdata\\local\\programs\\python\\python312\\lib\\site-packages (from tensorflow-intel==2.17.0->tensorflow) (18.1.1)\n",
      "Requirement already satisfied: ml-dtypes<0.5.0,>=0.3.1 in c:\\users\\dell\\appdata\\local\\programs\\python\\python312\\lib\\site-packages (from tensorflow-intel==2.17.0->tensorflow) (0.4.0)\n",
      "Requirement already satisfied: opt-einsum>=2.3.2 in c:\\users\\dell\\appdata\\local\\programs\\python\\python312\\lib\\site-packages (from tensorflow-intel==2.17.0->tensorflow) (3.3.0)\n",
      "Requirement already satisfied: packaging in c:\\users\\dell\\appdata\\local\\programs\\python\\python312\\lib\\site-packages (from tensorflow-intel==2.17.0->tensorflow) (24.1)\n",
      "Requirement already satisfied: protobuf!=4.21.0,!=4.21.1,!=4.21.2,!=4.21.3,!=4.21.4,!=4.21.5,<5.0.0dev,>=3.20.3 in c:\\users\\dell\\appdata\\local\\programs\\python\\python312\\lib\\site-packages (from tensorflow-intel==2.17.0->tensorflow) (4.25.4)\n",
      "Requirement already satisfied: requests<3,>=2.21.0 in c:\\users\\dell\\appdata\\local\\programs\\python\\python312\\lib\\site-packages (from tensorflow-intel==2.17.0->tensorflow) (2.32.3)\n",
      "Requirement already satisfied: setuptools in c:\\users\\dell\\appdata\\local\\programs\\python\\python312\\lib\\site-packages (from tensorflow-intel==2.17.0->tensorflow) (73.0.1)\n",
      "Requirement already satisfied: six>=1.12.0 in c:\\users\\dell\\appdata\\local\\programs\\python\\python312\\lib\\site-packages (from tensorflow-intel==2.17.0->tensorflow) (1.16.0)\n",
      "Requirement already satisfied: termcolor>=1.1.0 in c:\\users\\dell\\appdata\\local\\programs\\python\\python312\\lib\\site-packages (from tensorflow-intel==2.17.0->tensorflow) (2.4.0)\n",
      "Requirement already satisfied: typing-extensions>=3.6.6 in c:\\users\\dell\\appdata\\local\\programs\\python\\python312\\lib\\site-packages (from tensorflow-intel==2.17.0->tensorflow) (4.12.2)\n",
      "Requirement already satisfied: wrapt>=1.11.0 in c:\\users\\dell\\appdata\\local\\programs\\python\\python312\\lib\\site-packages (from tensorflow-intel==2.17.0->tensorflow) (1.16.0)\n",
      "Requirement already satisfied: grpcio<2.0,>=1.24.3 in c:\\users\\dell\\appdata\\local\\programs\\python\\python312\\lib\\site-packages (from tensorflow-intel==2.17.0->tensorflow) (1.66.0)\n",
      "Requirement already satisfied: tensorboard<2.18,>=2.17 in c:\\users\\dell\\appdata\\local\\programs\\python\\python312\\lib\\site-packages (from tensorflow-intel==2.17.0->tensorflow) (2.17.1)\n",
      "Requirement already satisfied: numpy<2.0.0,>=1.26.0 in c:\\users\\dell\\appdata\\local\\programs\\python\\python312\\lib\\site-packages (from tensorflow-intel==2.17.0->tensorflow) (1.26.4)\n",
      "Requirement already satisfied: rich in c:\\users\\dell\\appdata\\local\\programs\\python\\python312\\lib\\site-packages (from keras) (13.8.0)\n",
      "Requirement already satisfied: namex in c:\\users\\dell\\appdata\\local\\programs\\python\\python312\\lib\\site-packages (from keras) (0.0.8)\n",
      "Requirement already satisfied: optree in c:\\users\\dell\\appdata\\local\\programs\\python\\python312\\lib\\site-packages (from keras) (0.12.1)\n",
      "Requirement already satisfied: markdown-it-py>=2.2.0 in c:\\users\\dell\\appdata\\local\\programs\\python\\python312\\lib\\site-packages (from rich->keras) (3.0.0)\n",
      "Requirement already satisfied: pygments<3.0.0,>=2.13.0 in c:\\users\\dell\\appdata\\local\\programs\\python\\python312\\lib\\site-packages (from rich->keras) (2.18.0)\n",
      "Requirement already satisfied: wheel<1.0,>=0.23.0 in c:\\users\\dell\\appdata\\local\\programs\\python\\python312\\lib\\site-packages (from astunparse>=1.6.0->tensorflow-intel==2.17.0->tensorflow) (0.44.0)\n",
      "Requirement already satisfied: mdurl~=0.1 in c:\\users\\dell\\appdata\\local\\programs\\python\\python312\\lib\\site-packages (from markdown-it-py>=2.2.0->rich->keras) (0.1.2)\n",
      "Requirement already satisfied: charset-normalizer<4,>=2 in c:\\users\\dell\\appdata\\local\\programs\\python\\python312\\lib\\site-packages (from requests<3,>=2.21.0->tensorflow-intel==2.17.0->tensorflow) (3.3.2)\n",
      "Requirement already satisfied: idna<4,>=2.5 in c:\\users\\dell\\appdata\\local\\programs\\python\\python312\\lib\\site-packages (from requests<3,>=2.21.0->tensorflow-intel==2.17.0->tensorflow) (3.8)\n",
      "Requirement already satisfied: urllib3<3,>=1.21.1 in c:\\users\\dell\\appdata\\local\\programs\\python\\python312\\lib\\site-packages (from requests<3,>=2.21.0->tensorflow-intel==2.17.0->tensorflow) (2.2.2)\n",
      "Requirement already satisfied: certifi>=2017.4.17 in c:\\users\\dell\\appdata\\local\\programs\\python\\python312\\lib\\site-packages (from requests<3,>=2.21.0->tensorflow-intel==2.17.0->tensorflow) (2024.7.4)\n",
      "Requirement already satisfied: markdown>=2.6.8 in c:\\users\\dell\\appdata\\local\\programs\\python\\python312\\lib\\site-packages (from tensorboard<2.18,>=2.17->tensorflow-intel==2.17.0->tensorflow) (3.7)\n",
      "Requirement already satisfied: tensorboard-data-server<0.8.0,>=0.7.0 in c:\\users\\dell\\appdata\\local\\programs\\python\\python312\\lib\\site-packages (from tensorboard<2.18,>=2.17->tensorflow-intel==2.17.0->tensorflow) (0.7.2)\n",
      "Requirement already satisfied: werkzeug>=1.0.1 in c:\\users\\dell\\appdata\\local\\programs\\python\\python312\\lib\\site-packages (from tensorboard<2.18,>=2.17->tensorflow-intel==2.17.0->tensorflow) (3.0.4)\n",
      "Requirement already satisfied: MarkupSafe>=2.1.1 in c:\\users\\dell\\appdata\\local\\programs\\python\\python312\\lib\\site-packages (from werkzeug>=1.0.1->tensorboard<2.18,>=2.17->tensorflow-intel==2.17.0->tensorflow) (2.1.5)\n"
     ]
    }
   ],
   "source": [
    "!pip install tensorflow keras\n"
   ]
  },
  {
   "cell_type": "code",
   "execution_count": 71,
   "id": "0eaefc1b-2cb7-4f1b-b409-2be279fe2e7b",
   "metadata": {},
   "outputs": [
    {
     "name": "stdout",
     "output_type": "stream",
     "text": [
      "Collecting scikit-image\n",
      "  Downloading scikit_image-0.24.0-cp312-cp312-win_amd64.whl.metadata (14 kB)\n",
      "Requirement already satisfied: numpy>=1.23 in c:\\users\\dell\\appdata\\local\\programs\\python\\python312\\lib\\site-packages (from scikit-image) (1.26.4)\n",
      "Requirement already satisfied: scipy>=1.9 in c:\\users\\dell\\appdata\\local\\programs\\python\\python312\\lib\\site-packages (from scikit-image) (1.14.1)\n",
      "Requirement already satisfied: networkx>=2.8 in c:\\users\\dell\\appdata\\local\\programs\\python\\python312\\lib\\site-packages (from scikit-image) (3.3)\n",
      "Requirement already satisfied: pillow>=9.1 in c:\\users\\dell\\appdata\\local\\programs\\python\\python312\\lib\\site-packages (from scikit-image) (10.4.0)\n",
      "Collecting imageio>=2.33 (from scikit-image)\n",
      "  Downloading imageio-2.35.1-py3-none-any.whl.metadata (4.9 kB)\n",
      "Collecting tifffile>=2022.8.12 (from scikit-image)\n",
      "  Downloading tifffile-2024.8.28-py3-none-any.whl.metadata (31 kB)\n",
      "Requirement already satisfied: packaging>=21 in c:\\users\\dell\\appdata\\local\\programs\\python\\python312\\lib\\site-packages (from scikit-image) (24.1)\n",
      "Collecting lazy-loader>=0.4 (from scikit-image)\n",
      "  Downloading lazy_loader-0.4-py3-none-any.whl.metadata (7.6 kB)\n",
      "Downloading scikit_image-0.24.0-cp312-cp312-win_amd64.whl (12.9 MB)\n",
      "   ---------------------------------------- 0.0/12.9 MB ? eta -:--:--\n",
      "   - -------------------------------------- 0.5/12.9 MB 4.2 MB/s eta 0:00:03\n",
      "   -- ------------------------------------- 0.8/12.9 MB 3.7 MB/s eta 0:00:04\n",
      "   ------ --------------------------------- 2.1/12.9 MB 3.7 MB/s eta 0:00:03\n",
      "   ------- -------------------------------- 2.4/12.9 MB 3.6 MB/s eta 0:00:03\n",
      "   ---------- ----------------------------- 3.4/12.9 MB 3.5 MB/s eta 0:00:03\n",
      "   ------------ --------------------------- 3.9/12.9 MB 3.5 MB/s eta 0:00:03\n",
      "   ------------- -------------------------- 4.5/12.9 MB 3.1 MB/s eta 0:00:03\n",
      "   ---------------- ----------------------- 5.2/12.9 MB 3.2 MB/s eta 0:00:03\n",
      "   ------------------ --------------------- 6.0/12.9 MB 3.2 MB/s eta 0:00:03\n",
      "   --------------------- ------------------ 6.8/12.9 MB 3.2 MB/s eta 0:00:02\n",
      "   ---------------------- ----------------- 7.3/12.9 MB 3.3 MB/s eta 0:00:02\n",
      "   ------------------------- -------------- 8.1/12.9 MB 3.3 MB/s eta 0:00:02\n",
      "   --------------------------- ------------ 8.9/12.9 MB 3.3 MB/s eta 0:00:02\n",
      "   ----------------------------- ---------- 9.7/12.9 MB 3.3 MB/s eta 0:00:01\n",
      "   -------------------------------- ------- 10.5/12.9 MB 3.3 MB/s eta 0:00:01\n",
      "   ---------------------------------- ----- 11.0/12.9 MB 3.3 MB/s eta 0:00:01\n",
      "   ------------------------------------ --- 11.8/12.9 MB 3.3 MB/s eta 0:00:01\n",
      "   -------------------------------------- - 12.6/12.9 MB 3.3 MB/s eta 0:00:01\n",
      "   ---------------------------------------- 12.9/12.9 MB 3.3 MB/s eta 0:00:00\n",
      "Downloading imageio-2.35.1-py3-none-any.whl (315 kB)\n",
      "Downloading lazy_loader-0.4-py3-none-any.whl (12 kB)\n",
      "Downloading tifffile-2024.8.28-py3-none-any.whl (226 kB)\n",
      "Installing collected packages: tifffile, lazy-loader, imageio, scikit-image\n",
      "Successfully installed imageio-2.35.1 lazy-loader-0.4 scikit-image-0.24.0 tifffile-2024.8.28\n"
     ]
    }
   ],
   "source": [
    "!pip install scikit-image"
   ]
  },
  {
   "cell_type": "code",
   "execution_count": 69,
   "id": "c4ac58b0-5a3e-455a-98a7-ec6202472ccd",
   "metadata": {},
   "outputs": [
    {
     "name": "stdout",
     "output_type": "stream",
     "text": [
      "Collecting mrcnn\n",
      "  Downloading mrcnn-0.2.tar.gz (51 kB)\n",
      "  Preparing metadata (setup.py): started\n",
      "  Preparing metadata (setup.py): finished with status 'done'\n",
      "Building wheels for collected packages: mrcnn\n",
      "  Building wheel for mrcnn (setup.py): started\n",
      "  Building wheel for mrcnn (setup.py): finished with status 'done'\n",
      "  Created wheel for mrcnn: filename=mrcnn-0.2-py3-none-any.whl size=54918 sha256=5976d20f061692e12758b38ffb01a0dc3b12154cea52be9b99b71b4975a458a6\n",
      "  Stored in directory: c:\\users\\dell\\appdata\\local\\pip\\cache\\wheels\\b7\\db\\29\\56f408f3de99a3a51d37bf2e9ac3b67fdafa32a9bf8054cc0a\n",
      "Successfully built mrcnn\n",
      "Installing collected packages: mrcnn\n",
      "Successfully installed mrcnn-0.2\n",
      "Note: you may need to restart the kernel to use updated packages.\n"
     ]
    }
   ],
   "source": [
    "!pip install mrcnn\n"
   ]
  },
  {
   "cell_type": "code",
   "execution_count": 80,
   "id": "c1c3fbf8-d28d-4666-bd61-90c2763d62ec",
   "metadata": {},
   "outputs": [
    {
     "name": "stdout",
     "output_type": "stream",
     "text": [
      "Collecting git+https://github.com/matterport/Mask_RCNN.git"
     ]
    },
    {
     "name": "stderr",
     "output_type": "stream",
     "text": [
      "  Running command git clone --filter=blob:none --quiet https://github.com/matterport/Mask_RCNN.git 'C:\\Users\\DELL\\AppData\\Local\\Temp\\pip-req-build-3bvg8igi'\n"
     ]
    },
    {
     "name": "stdout",
     "output_type": "stream",
     "text": [
      "\n",
      "  Cloning https://github.com/matterport/Mask_RCNN.git to c:\\users\\dell\\appdata\\local\\temp\\pip-req-build-3bvg8igi\n",
      "  Resolved https://github.com/matterport/Mask_RCNN.git to commit 3deaec5d902d16e1daf56b62d5971d428dc920bc\n",
      "  Preparing metadata (setup.py): started\n",
      "  Preparing metadata (setup.py): finished with status 'done'\n",
      "Building wheels for collected packages: mask-rcnn\n",
      "  Building wheel for mask-rcnn (setup.py): started\n",
      "  Building wheel for mask-rcnn (setup.py): finished with status 'done'\n",
      "  Created wheel for mask-rcnn: filename=mask_rcnn-2.1-py3-none-any.whl size=57314 sha256=25d46f0ae0c22978560eeffef96777d1acf9e7a103919d70972a02c6cd7082f3\n",
      "  Stored in directory: C:\\Users\\DELL\\AppData\\Local\\Temp\\pip-ephem-wheel-cache-2fbiejr4\\wheels\\72\\4a\\32\\a93febdcbafe7f8f7b2cb0351b8e3da116ca3c9ad9e5b704f4\n",
      "Successfully built mask-rcnn\n",
      "Installing collected packages: mask-rcnn\n",
      "Successfully installed mask-rcnn-2.1\n"
     ]
    }
   ],
   "source": [
    "!pip install git+https://github.com/matterport/Mask_RCNN.git"
   ]
  },
  {
   "cell_type": "code",
   "execution_count": 81,
   "id": "82ae2bdd-460d-49d8-a8a9-9d0bd07ea146",
   "metadata": {},
   "outputs": [],
   "source": [
    "from mrcnn.config import Config\n",
    "\n",
    "class CatsDogsConfig(Config):\n",
    "    NAME = \"cats_dogs\"\n",
    "    NUM_CLASSES = 1 + 2  # Background + cats + dogs\n",
    "    IMAGES_PER_GPU = 2  # Adjust based on your GPU memory\n",
    "    STEPS_PER_EPOCH = 100  # Adjust based on your dataset size\n",
    "    VALIDATION_STEPS = 50  # Adjust based on your validation dataset size\n",
    "    GPU_COUNT = 1  # Number of GPUs available\n",
    "    BACKBONE = \"resnet50\"  # Backbone architecture"
   ]
  },
  {
   "cell_type": "code",
   "execution_count": 87,
   "id": "2e9589ec-ad62-40c0-a772-c7689d90c18f",
   "metadata": {},
   "outputs": [
    {
     "name": "stdout",
     "output_type": "stream",
     "text": [
      "Collecting keras==2.2.4\n",
      "  Downloading Keras-2.2.4-py2.py3-none-any.whl.metadata (2.2 kB)\n"
     ]
    },
    {
     "name": "stderr",
     "output_type": "stream",
     "text": [
      "ERROR: Could not find a version that satisfies the requirement tensorflow==1.14.0 (from versions: 2.16.0rc0, 2.16.1, 2.16.2, 2.17.0rc0, 2.17.0rc1, 2.17.0)\n",
      "ERROR: No matching distribution found for tensorflow==1.14.0\n"
     ]
    }
   ],
   "source": [
    "!pip install keras==2.2.4 tensorflow==1.14.0\n"
   ]
  },
  {
   "cell_type": "code",
   "execution_count": 88,
   "id": "806aa426-2043-465b-ac66-84a492dc4033",
   "metadata": {},
   "outputs": [
    {
     "name": "stdout",
     "output_type": "stream",
     "text": [
      "Collecting git+https://github.com/matterport/Mask_RCNN.git\n",
      "  Cloning https://github.com/matterport/Mask_RCNN.git to c:\\users\\dell\\appdata\\local\\temp\\pip-req-build-071m_26d\n",
      "  Resolved https://github.com/matterport/Mask_RCNN.git to commit 3deaec5d902d16e1daf56b62d5971d428dc920bc\n",
      "  Preparing metadata (setup.py): started\n",
      "  Preparing metadata (setup.py): finished with status 'done'\n"
     ]
    },
    {
     "name": "stderr",
     "output_type": "stream",
     "text": [
      "  Running command git clone --filter=blob:none --quiet https://github.com/matterport/Mask_RCNN.git 'C:\\Users\\DELL\\AppData\\Local\\Temp\\pip-req-build-071m_26d'\n"
     ]
    }
   ],
   "source": [
    "!pip install --upgrade git+https://github.com/matterport/Mask_RCNN.git"
   ]
  },
  {
   "cell_type": "code",
   "execution_count": 95,
   "id": "369d0d1b-352a-463e-a0e7-126852963e64",
   "metadata": {},
   "outputs": [
    {
     "ename": "ModuleNotFoundError",
     "evalue": "No module named 'keras.engine'",
     "output_type": "error",
     "traceback": [
      "\u001b[1;31m---------------------------------------------------------------------------\u001b[0m",
      "\u001b[1;31mModuleNotFoundError\u001b[0m                       Traceback (most recent call last)",
      "Cell \u001b[1;32mIn[95], line 1\u001b[0m\n\u001b[1;32m----> 1\u001b[0m \u001b[38;5;28;01mfrom\u001b[39;00m \u001b[38;5;21;01mmrcnn\u001b[39;00m \u001b[38;5;28;01mimport\u001b[39;00m model \u001b[38;5;28;01mas\u001b[39;00m MaskRCNN\n\u001b[0;32m      3\u001b[0m \u001b[38;5;66;03m# Create a model in training mode\u001b[39;00m\n\u001b[0;32m      4\u001b[0m config \u001b[38;5;241m=\u001b[39m CatsDogsConfig()\n",
      "File \u001b[1;32m~\\AppData\\Local\\Programs\\Python\\Python312\\Lib\\site-packages\\mrcnn\\model.py:23\u001b[0m\n\u001b[0;32m     21\u001b[0m \u001b[38;5;28;01mimport\u001b[39;00m \u001b[38;5;21;01mkeras\u001b[39;00m\u001b[38;5;21;01m.\u001b[39;00m\u001b[38;5;21;01mbackend\u001b[39;00m \u001b[38;5;28;01mas\u001b[39;00m \u001b[38;5;21;01mK\u001b[39;00m\n\u001b[0;32m     22\u001b[0m \u001b[38;5;28;01mimport\u001b[39;00m \u001b[38;5;21;01mkeras\u001b[39;00m\u001b[38;5;21;01m.\u001b[39;00m\u001b[38;5;21;01mlayers\u001b[39;00m \u001b[38;5;28;01mas\u001b[39;00m \u001b[38;5;21;01mKL\u001b[39;00m\n\u001b[1;32m---> 23\u001b[0m \u001b[38;5;28;01mimport\u001b[39;00m \u001b[38;5;21;01mkeras\u001b[39;00m\u001b[38;5;21;01m.\u001b[39;00m\u001b[38;5;21;01mengine\u001b[39;00m \u001b[38;5;28;01mas\u001b[39;00m \u001b[38;5;21;01mKE\u001b[39;00m\n\u001b[0;32m     24\u001b[0m \u001b[38;5;28;01mimport\u001b[39;00m \u001b[38;5;21;01mkeras\u001b[39;00m\u001b[38;5;21;01m.\u001b[39;00m\u001b[38;5;21;01mmodels\u001b[39;00m \u001b[38;5;28;01mas\u001b[39;00m \u001b[38;5;21;01mKM\u001b[39;00m\n\u001b[0;32m     26\u001b[0m \u001b[38;5;28;01mfrom\u001b[39;00m \u001b[38;5;21;01mmrcnn\u001b[39;00m \u001b[38;5;28;01mimport\u001b[39;00m utils\n",
      "\u001b[1;31mModuleNotFoundError\u001b[0m: No module named 'keras.engine'"
     ]
    }
   ],
   "source": [
    "from mrcnn import model as MaskRCNN\n",
    "\n",
    "# Create a model in training mode\n",
    "config = CatsDogsConfig()\n",
    "model = MaskRCNN.MaskRCNN(mode=\"training\", config=config, model_dir='C://Users//DELL//Downloads//EMINIST//mnist_model_.weights.h5')\n"
   ]
  },
  {
   "cell_type": "code",
   "execution_count": 92,
   "id": "38afcdde-1e44-44f7-94ab-890469566954",
   "metadata": {},
   "outputs": [
    {
     "name": "stdout",
     "output_type": "stream",
     "text": [
      "Looking in links: https://storage.googleapis.com/tensorflow/linux/cpu/tensorflow_cpu-1.14.0-cp36-cp36m-manylinux1_x86_64.whl"
     ]
    },
    {
     "name": "stderr",
     "output_type": "stream",
     "text": [
      "ERROR: Could not find a version that satisfies the requirement tensorflow==1.14.0 (from versions: 2.16.0rc0, 2.16.1, 2.16.2, 2.17.0rc0, 2.17.0rc1, 2.17.0)\n",
      "ERROR: No matching distribution found for tensorflow==1.14.0\n"
     ]
    },
    {
     "name": "stdout",
     "output_type": "stream",
     "text": [
      "\n"
     ]
    }
   ],
   "source": [
    "!pip install tensorflow==1.14.0 --find-links https://storage.googleapis.com/tensorflow/linux/cpu/tensorflow_cpu-1.14.0-cp36-cp36m-manylinux1_x86_64.whl\n"
   ]
  },
  {
   "cell_type": "code",
   "execution_count": null,
   "id": "00d383c6-d241-4203-aff6-3d3dcf8cc030",
   "metadata": {},
   "outputs": [],
   "source": []
  }
 ],
 "metadata": {
  "kernelspec": {
   "display_name": "Python 3 (ipykernel)",
   "language": "python",
   "name": "python3"
  },
  "language_info": {
   "codemirror_mode": {
    "name": "ipython",
    "version": 3
   },
   "file_extension": ".py",
   "mimetype": "text/x-python",
   "name": "python",
   "nbconvert_exporter": "python",
   "pygments_lexer": "ipython3",
   "version": "3.12.5"
  }
 },
 "nbformat": 4,
 "nbformat_minor": 5
}
